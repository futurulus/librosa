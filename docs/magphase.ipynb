{
 "cells": [
  {
   "cell_type": "code",
   "execution_count": 1,
   "metadata": {},
   "outputs": [],
   "source": [
    "import numpy as np\n",
    "import matplotlib.pyplot as plt\n",
    "import timeit\n",
    "\n",
    "\n",
    "def magphase_old(D, *, power=1):\n",
    "    mag = np.abs(D)\n",
    "    mag **= power\n",
    "    phase = np.exp(1.0j * np.angle(D))\n",
    "    return mag, phase\n",
    "\n",
    "def magphase_new(D, *, power=1):\n",
    "    mag = np.abs(D)\n",
    "    zeros_to_ones = mag == 0\n",
    "    mag_nonzero = mag + zeros_to_ones\n",
    "    phase = D.imag / mag_nonzero * 1.0j\n",
    "    phase += D.real / mag_nonzero + zeros_to_ones\n",
    "    mag **= power\n",
    "    return mag, phase"
   ]
  },
  {
   "cell_type": "code",
   "execution_count": 2,
   "metadata": {},
   "outputs": [
    {
     "name": "stdout",
     "output_type": "stream",
     "text": [
      "1: old 6.2355240200122355e-06 new 8.163305789930745e-06\n",
      "9: old 7.351809160027187e-06 new 8.805067380017135e-06\n",
      "100: old 1.3869442440045532e-05 new 1.0588623239891603e-05\n",
      "961: old 9.519148109975504e-05 new 2.710818339983234e-05\n",
      "10000: old 0.0009980572030035546 new 0.00024247488800028806\n",
      "99856: old 0.0106536581000546 new 0.0031499229799374006\n",
      "1000000: old 0.1021500887000002 new 0.03633526360063115\n",
      "9998244: old 1.0096370789993672 new 0.34205444119870665\n"
     ]
    },
    {
     "data": {
      "image/png": "[encoded data removed]",
      "text/plain": [
       "<Figure size 432x288 with 1 Axes>"
      ]
     },
     "metadata": {
      "needs_background": "light"
     },
     "output_type": "display_data"
    }
   ],
   "source": [
    "def performance():\n",
    "    n = []\n",
    "    t_old = []\n",
    "    t_new = []\n",
    "\n",
    "    for d in (1, 3, 10, 31, 100, 316, 1000, 3162):\n",
    "        D = (np.random.uniform(-1.0, 1.0, (d, d)) + 1.0j * np.random.uniform(-1.0, 1.0, (d, d))).astype(np.complex128)\n",
    "\n",
    "        n.append(d * d)\n",
    "\n",
    "        timer = timeit.Timer(stmt='magphase_old(D)', globals={'magphase_old': magphase_old, 'D': D})\n",
    "        number, _ = timer.autorange()\n",
    "        t_old.append(min(timer.repeat(repeat=3, number=number)) / number)\n",
    "\n",
    "        timer = timeit.Timer(stmt='magphase_new(D)', globals={'magphase_new': magphase_new, 'D': D})\n",
    "        number, _ = timer.autorange()\n",
    "        t_new.append(min(timer.repeat(repeat=3, number=number)) / number)\n",
    "        \n",
    "        print(f\"{d * d}: old {t_old[-1]} new {t_new[-1]}\")\n",
    "\n",
    "    plt.loglog(n, t_old)\n",
    "    plt.loglog(n, t_new)\n",
    "    plt.xlabel('# array elements')\n",
    "    plt.ylabel('Time/call (s)')\n",
    "    plt.legend(['old', 'new'])\n",
    "    plt.show()\n",
    "\n",
    "performance()"
   ]
  },
  {
   "cell_type": "code",
   "execution_count": 3,
   "metadata": {},
   "outputs": [
    {
     "name": "stdout",
     "output_type": "stream",
     "text": [
      "1e-46: old 0.0 new 0.0\n",
      "1e-45: old 0.0 new 0.0\n",
      "1e-44: old 0.0 new 0.0\n",
      "1e-33: old 0.0 new 0.0\n",
      "1e-22: old 0.0 new 0.0\n",
      "1e-11: old 5.557445515674136e-19 new 1.1332819001555726e-19\n",
      "1e-06: old 5.666874372642523e-14 new 1.3724302049640189e-14\n",
      "1.0: old 5.5992956049522036e-08 new 1.4042211837761442e-08\n",
      "1000000.0: old 0.05574551969766617 new 0.012552504427731037\n",
      "1000000000000.0: old 56274.5078125 new 11915.630859375\n",
      "1e+18: old 55660879872.0 new 10232274944.0\n",
      "1e+24: old 5.556972139472486e+16 new 1.0282120568111104e+16\n",
      "1e+25: old inf new 1.3731339439806874e+17\n",
      "1e+26: old inf new inf\n"
     ]
    },
    {
     "name": "stderr",
     "output_type": "stream",
     "text": [
      ".../lib/python3.6/site-packages/numpy/core/_methods.py:160: RuntimeWarning: overflow encountered in reduce\n",
      "  ret = umr_sum(arr, axis, dtype, out, keepdims)\n",
      ".../lib/python3.6/site-packages/ipykernel_launcher.py:7: RuntimeWarning: overflow encountered in square\n",
      "  import sys\n"
     ]
    }
   ],
   "source": [
    "def accuracy():\n",
    "    d = 100\n",
    "    for a in (1e-46, 1e-45, 1e-44, 1e-33, 1e-22, 1e-11, 1e-6, 1.0, 1e6, 1e12, 1e18, 1e24, 1e25, 1e26):\n",
    "        D = (np.random.uniform(-a, a, (d, d)) + 1.0j * np.random.uniform(-a, a, (d, d))).astype(np.complex64)\n",
    "\n",
    "        m, p = magphase_old(D)\n",
    "        rms_old = np.sqrt((np.abs(m * p - D) ** 2).mean())\n",
    "        m, p = magphase_new(D)\n",
    "        rms_new = np.sqrt((np.abs(m * p - D) ** 2).mean())\n",
    "        print(f\"{a}: old {rms_old} new {rms_new}\")\n",
    "\n",
    "accuracy()"
   ]
  }
 ],
 "metadata": {
  "kernelspec": {
   "display_name": "Python 3",
   "language": "python",
   "name": "python3"
  },
  "language_info": {
   "codemirror_mode": {
    "name": "ipython",
    "version": 3
   },
   "file_extension": ".py",
   "mimetype": "text/x-python",
   "name": "python",
   "nbconvert_exporter": "python",
   "pygments_lexer": "ipython3",
   "version": "3.6.7"
  }
 },
 "nbformat": 4,
 "nbformat_minor": 4
}
